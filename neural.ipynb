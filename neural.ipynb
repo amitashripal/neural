{
  "nbformat": 4,
  "nbformat_minor": 0,
  "metadata": {
    "colab": {
      "name": "neural.ipynb",
      "provenance": [],
      "authorship_tag": "ABX9TyOIlKn2kFw3kcTNSV/+1fsH",
      "include_colab_link": true
    },
    "kernelspec": {
      "name": "python3",
      "display_name": "Python 3"
    },
    "language_info": {
      "name": "python"
    }
  },
  "cells": [
    {
      "cell_type": "markdown",
      "metadata": {
        "id": "view-in-github",
        "colab_type": "text"
      },
      "source": [
        "<a href=\"https://colab.research.google.com/github/amitashripal/neural/blob/main/neural.ipynb\" target=\"_parent\"><img src=\"https://colab.research.google.com/assets/colab-badge.svg\" alt=\"Open In Colab\"/></a>"
      ]
    },
    {
      "cell_type": "code",
      "metadata": {
        "colab": {
          "base_uri": "https://localhost:8080/",
          "height": 315
        },
        "id": "6S3HZUY3p9Pd",
        "outputId": "6e983cb2-ab14-455a-b0de-51c309d539e9"
      },
      "source": [
        "import math\n",
        "import matplotlib.pyplot as plt\n",
        "import numpy as np\n",
        "\n",
        "X = np.array([[0,0],[0,1],[1,0],[1,1]])\n",
        "# For OR use this y array\n",
        "# y = np.array([0,1,1,1])\n",
        "# For AND use this y array\n",
        "y = np.array([0,0,0,1])\n",
        " \n",
        "def step_function(x):\n",
        "    return x>=0\n",
        " \n",
        "def perceptron(epochs,alpha,bias):\n",
        "    W = np.random.rand(2)\n",
        "    while(epochs > 0):\n",
        "        for i in range(4):\n",
        "            pred = step_function(W.dot(X[i]) + bias)\n",
        "            W = W - (alpha*(pred-y[i]))*X[i]\n",
        "            bias = bias - (alpha*(pred-y[i]))\n",
        "        epochs = epochs - 1\n",
        "    return (W,bias);\n",
        " \n",
        "def test(x1,x2,weights,bias):\n",
        "    ans1 =(weights[0]*x1 + weights[1]*x2 + bias)\n",
        "    return step_function(ans1)\n",
        " \n",
        " \n",
        "alpha = 0.1\n",
        "epochs = 20\n",
        "bias = 0\n",
        "ans = perceptron(epochs,alpha,bias)\n",
        "weights = ans[0]\n",
        "bias = ans[1]\n",
        " \n",
        "# If you want to test use this\n",
        "x1 = int(input(\"Enter x1: \"))\n",
        "x2 = int(input(\"Enter x2: \"))\n",
        "# Works only if x1 & x2 are binary\n",
        "print(test(x1,x2,weights,bias))\n",
        " \n",
        "X1 = [0,0,1,1]\n",
        "X2 = [0,1,0,1]\n",
        "plt.plot(X1,X2,'ro')\n",
        "pnt1 = (-bias/weights[0])\n",
        "pnt2 = (-bias/weights[1])\n",
        "point1 = [0,pnt1]\n",
        "point2 = [pnt2,0]\n",
        "plt.plot(point1,point2,'b-')\n",
        "plt.show()"
      ],
      "execution_count": 1,
      "outputs": [
        {
          "output_type": "stream",
          "text": [
            "Enter x1: 1\n",
            "Enter x2: 0\n",
            "False\n"
          ],
          "name": "stdout"
        },
        {
          "output_type": "display_data",
          "data": {
            "image/png": "[encoded data removed]",
            "text/plain": [
              "<Figure size 432x288 with 1 Axes>"
            ]
          },
          "metadata": {
            "tags": [],
            "needs_background": "light"
          }
        }
      ]
    }
  ]
}